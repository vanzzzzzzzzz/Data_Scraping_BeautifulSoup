{
 "cells": [
  {
   "cell_type": "code",
   "execution_count": null,
   "metadata": {},
   "outputs": [],
   "source": [
    "from bs4 import BeautifulSoup as bs4\n",
    "import requests\n",
    "import time\n",
    "import datetime\n",
    "import csv\n",
    "import pandas as pd"
   ]
  },
  {
   "cell_type": "code",
   "execution_count": null,
   "metadata": {},
   "outputs": [],
   "source": [
    "URL = 'https://www.amazon.com/Funny-Data-Systems-Business-Analyst/dp/B07FNW9FGJ/ref=sr_1_3?dchild=1&keywords=data%2Banalyst%2Btshirt&qid=1626655184&sr=8-3&customId=B0752XJYNL&th=1'\n",
    "headers = {\"User-Agent\": \"Mozilla/5.0 (Windows NT 10.0; Win64; x64) AppleWebKit/537.36 (KHTML, like Gecko) Chrome/133.0.0.0 Safari/537.36\",\n",
    "    \"X-Amzn-Trace-Id\": \"Root=1-67c6acf5-0db654915975292a19d61364\",\n",
    "    \"X-Browser-Channel\": \"stable\",\n",
    "    \"X-Browser-Copyright\": \"Copyright 2025 Google LLC. All rights reserved.\",\n",
    "    \"X-Browser-Validation\": \"1nAW9Rb/M8Lkk97ILDg00FWYjns=\",\n",
    "    \"X-Browser-Year\": \"2025\"}\n",
    "page = requests.get(URL, headers= headers)\n",
    "soup = bs4(page.content, 'html.parser')\n",
    "print(soup)\n"
   ]
  },
  {
   "cell_type": "code",
   "execution_count": null,
   "metadata": {},
   "outputs": [],
   "source": [
    "product = soup.find(class_ = 'a-size-large product-title-word-break').text.strip()\n",
    "price = soup.find(class_= 'a-price aok-align-center reinventPricePriceToPayMargin priceToPay').text.strip()[1:]\n",
    "\n",
    "print(product)\n",
    "print(price)"
   ]
  },
  {
   "cell_type": "code",
   "execution_count": null,
   "metadata": {},
   "outputs": [],
   "source": [
    "dates = datetime.date.today()\n",
    "print(dates)"
   ]
  },
  {
   "cell_type": "code",
   "execution_count": null,
   "metadata": {},
   "outputs": [],
   "source": [
    "header= [\"Product\", \"Price\", 'Date']\n",
    "data = [product, price, dates]\n",
    "\n",
    "with open (r'E:\\DA Bootcam\\Phyton\\Amazon Web Scraping.csv', 'w', newline='', encoding='UTF8') as f:\n",
    "    writer = csv.writer(f)\n",
    "    writer.writerow(header)\n",
    "    writer.writerow(data)\n",
    "\n",
    "df = pd.read_csv(r'E:\\DA Bootcam\\Phyton\\Amazon Web Scraping.csv')\n",
    "df"
   ]
  },
  {
   "cell_type": "code",
   "execution_count": null,
   "metadata": {},
   "outputs": [],
   "source": [
    "def price_list():\n",
    "    from bs4 import BeautifulSoup as bs4\n",
    "    import requests\n",
    "    URL = 'https://www.amazon.com/Funny-Data-Systems-Business-Analyst/dp/B07FNW9FGJ/ref=sr_1_3?dchild=1&keywords=data%2Banalyst%2Btshirt&qid=1626655184&sr=8-3&customId=B0752XJYNL&th=1'\n",
    "    headers = {\"User-Agent\": \"Mozilla/5.0 (Windows NT 10.0; Win64; x64) AppleWebKit/537.36 (KHTML, like Gecko) Chrome/133.0.0.0 Safari/537.36\",\n",
    "    \"X-Amzn-Trace-Id\": \"Root=1-67c6acf5-0db654915975292a19d61364\",\n",
    "    \"X-Browser-Channel\": \"stable\",\n",
    "    \"X-Browser-Copyright\": \"Copyright 2025 Google LLC. All rights reserved.\",\n",
    "    \"X-Browser-Validation\": \"1nAW9Rb/M8Lkk97ILDg00FWYjns=\",\n",
    "    \"X-Browser-Year\": \"2025\"}\n",
    "    page = requests.get(URL, headers= headers)\n",
    "    soup = bs4(page.content, 'html.parser')\n",
    "    soup2 = bs4(soup.prettify(), 'html.parser')\n",
    "    product = soup2.find(class_='a-size-large product-title-word-break').text.strip()\n",
    "    price = soup2.find(class_= 'a-price aok-align-center reinventPricePriceToPayMargin priceToPay').text.strip()[1:]\n",
    "\n",
    "    import datetime\n",
    "    today = datetime.date.today()\n",
    "\n",
    "    data = [product, price, today]\n",
    "\n",
    "    import csv\n",
    "    with open (r'E:\\DA Bootcam\\Phyton\\Amazon Web Scraping.csv', 'a+', newline='', encoding='UTF8') as f:\n",
    "        writer = csv.writer(f)\n",
    "        writer.writerow(data)"
   ]
  },
  {
   "cell_type": "code",
   "execution_count": null,
   "metadata": {},
   "outputs": [],
   "source": [
    "import time\n",
    "while(True):\n",
    "    price_list()\n",
    "    time.sleep(10)"
   ]
  },
  {
   "cell_type": "code",
   "execution_count": null,
   "metadata": {},
   "outputs": [],
   "source": [
    "import pandas as pd\n",
    "df = pd.read_csv(r'E:\\DA Bootcam\\Phyton\\Amazon Web Scraping.csv')\n",
    "df"
   ]
  },
  {
   "cell_type": "code",
   "execution_count": null,
   "metadata": {},
   "outputs": [],
   "source": [
    "# untuk mengirimkan email\n",
    "\n",
    "import smtplib\n",
    "\n",
    "def send_mail():\n",
    "    server = smtplib.SMTP_SSL('smtp.gmail.com',465)\n",
    "    server.ehlo()\n",
    "    #server.starttls()\n",
    "    server.ehlo()\n",
    "    server.login('ivanzhang1409@gmail.com','xxxxxxxxxxxxxx')\n",
    "    \n",
    "    subject = \"The Shirt you want is below $15! Now is your chance to buy!\"\n",
    "    body = \"Alex, This is the moment we have been waiting for. Now is your chance to pick up the shirt of your dreams. Don't mess it up! Link here: https://www.amazon.com/Funny-Data-Systems-Business-Analyst/dp/B07FNW9FGJ/ref=sr_1_3?dchild=1&keywords=data+analyst+tshirt&qid=1626655184&sr=8-3\"\n",
    "   \n",
    "    msg = f\"Subject: {subject}\\n\\n{body}\"\n",
    "    \n",
    "    server.sendmail(\n",
    "        'ivanzhang1409@gmail.com',\n",
    "        msg\n",
    "     \n",
    "    )"
   ]
  }
 ],
 "metadata": {
  "kernelspec": {
   "display_name": "Python 3",
   "language": "python",
   "name": "python3"
  },
  "language_info": {
   "codemirror_mode": {
    "name": "ipython",
    "version": 3
   },
   "file_extension": ".py",
   "mimetype": "text/x-python",
   "name": "python",
   "nbconvert_exporter": "python",
   "pygments_lexer": "ipython3",
   "version": "3.12.5"
  }
 },
 "nbformat": 4,
 "nbformat_minor": 2
}
