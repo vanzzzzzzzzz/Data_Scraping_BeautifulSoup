{
 "cells": [
  {
   "cell_type": "markdown",
   "metadata": {},
   "source": [
    "BEAUTIFULSOUP AND REQUEST"
   ]
  },
  {
   "cell_type": "code",
   "execution_count": null,
   "metadata": {},
   "outputs": [],
   "source": [
    "from bs4 import BeautifulSoup as bs4\n",
    "import requests\n",
    "\n",
    "link = 'https://www.scrapethissite.com/pages/forms/'\n",
    "requests.get(link)\n",
    "\n",
    "soup = bs4(requests.get(link).text, 'html')\n",
    "print(soup.prettify())"
   ]
  },
  {
   "cell_type": "markdown",
   "metadata": {},
   "source": [
    "FIND AND FIND ALL"
   ]
  },
  {
   "cell_type": "code",
   "execution_count": 3,
   "metadata": {},
   "outputs": [],
   "source": [
    "from bs4 import BeautifulSoup as bs4\n",
    "import requests\n",
    "\n",
    "link = 'https://www.scrapethissite.com/pages/forms/'\n",
    "page = requests.get(link)\n",
    "soup = bs4(page.text, 'html')"
   ]
  },
  {
   "cell_type": "markdown",
   "metadata": {},
   "source": [
    "FIND"
   ]
  },
  {
   "cell_type": "code",
   "execution_count": 10,
   "metadata": {},
   "outputs": [
    {
     "name": "stdout",
     "output_type": "stream",
     "text": [
      "<th>\n",
      "                            Team Name\n",
      "                        </th>\n",
      "using '.text': Team Name\n"
     ]
    }
   ],
   "source": [
    "FIND1 = soup.find('th')\n",
    "print(FIND1)\n",
    "print(\"using '.text':\", FIND1.text.strip())"
   ]
  },
  {
   "cell_type": "markdown",
   "metadata": {},
   "source": [
    "FIND_ALL"
   ]
  },
  {
   "cell_type": "code",
   "execution_count": 12,
   "metadata": {},
   "outputs": [
    {
     "name": "stdout",
     "output_type": "stream",
     "text": [
      "[<th>\n",
      "                            Team Name\n",
      "                        </th>, <th>\n",
      "                            Year\n",
      "                        </th>, <th>\n",
      "                            Wins\n",
      "                        </th>, <th>\n",
      "                            Losses\n",
      "                        </th>, <th>\n",
      "                            OT Losses\n",
      "                        </th>, <th>\n",
      "                            Win %\n",
      "                        </th>, <th>\n",
      "                            Goals For (GF)\n",
      "                        </th>, <th>\n",
      "                            Goals Against (GA)\n",
      "                        </th>, <th>\n",
      "                            + / -\n",
      "                        </th>]\n"
     ]
    }
   ],
   "source": [
    "FIND2 = soup.find_all('th')\n",
    "print(FIND2) # find_all tidak dapat menggunakan '.text'"
   ]
  },
  {
   "cell_type": "code",
   "execution_count": 11,
   "metadata": {},
   "outputs": [
    {
     "name": "stdout",
     "output_type": "stream",
     "text": [
      "[<td class=\"name\">\n",
      "                            Boston Bruins\n",
      "                        </td>, <td class=\"name\">\n",
      "                            Buffalo Sabres\n",
      "                        </td>, <td class=\"name\">\n",
      "                            Calgary Flames\n",
      "                        </td>, <td class=\"name\">\n",
      "                            Chicago Blackhawks\n",
      "                        </td>, <td class=\"name\">\n",
      "                            Detroit Red Wings\n",
      "                        </td>, <td class=\"name\">\n",
      "                            Edmonton Oilers\n",
      "                        </td>, <td class=\"name\">\n",
      "                            Hartford Whalers\n",
      "                        </td>, <td class=\"name\">\n",
      "                            Los Angeles Kings\n",
      "                        </td>, <td class=\"name\">\n",
      "                            Minnesota North Stars\n",
      "                        </td>, <td class=\"name\">\n",
      "                            Montreal Canadiens\n",
      "                        </td>, <td class=\"name\">\n",
      "                            New Jersey Devils\n",
      "                        </td>, <td class=\"name\">\n",
      "                            New York Islanders\n",
      "                        </td>, <td class=\"name\">\n",
      "                            New York Rangers\n",
      "                        </td>, <td class=\"name\">\n",
      "                            Philadelphia Flyers\n",
      "                        </td>, <td class=\"name\">\n",
      "                            Pittsburgh Penguins\n",
      "                        </td>, <td class=\"name\">\n",
      "                            Quebec Nordiques\n",
      "                        </td>, <td class=\"name\">\n",
      "                            St. Louis Blues\n",
      "                        </td>, <td class=\"name\">\n",
      "                            Toronto Maple Leafs\n",
      "                        </td>, <td class=\"name\">\n",
      "                            Vancouver Canucks\n",
      "                        </td>, <td class=\"name\">\n",
      "                            Washington Capitals\n",
      "                        </td>, <td class=\"name\">\n",
      "                            Winnipeg Jets\n",
      "                        </td>, <td class=\"name\">\n",
      "                            Boston Bruins\n",
      "                        </td>, <td class=\"name\">\n",
      "                            Buffalo Sabres\n",
      "                        </td>, <td class=\"name\">\n",
      "                            Calgary Flames\n",
      "                        </td>, <td class=\"name\">\n",
      "                            Chicago Blackhawks\n",
      "                        </td>]\n"
     ]
    }
   ],
   "source": [
    "team_name = soup.find_all('td', class_='name')\n",
    "print(team_name)"
   ]
  }
 ],
 "metadata": {
  "kernelspec": {
   "display_name": "Python 3",
   "language": "python",
   "name": "python3"
  },
  "language_info": {
   "codemirror_mode": {
    "name": "ipython",
    "version": 3
   },
   "file_extension": ".py",
   "mimetype": "text/x-python",
   "name": "python",
   "nbconvert_exporter": "python",
   "pygments_lexer": "ipython3",
   "version": "3.12.5"
  }
 },
 "nbformat": 4,
 "nbformat_minor": 2
}
